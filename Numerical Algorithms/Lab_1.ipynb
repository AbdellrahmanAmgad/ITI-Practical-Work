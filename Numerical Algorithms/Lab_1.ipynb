{
 "cells": [
  {
   "cell_type": "code",
   "execution_count": 111,
   "id": "a793dfb8",
   "metadata": {},
   "outputs": [],
   "source": [
    "import numpy as np\n",
    "from scipy.linalg import lu\n",
    "from scipy import linalg\n",
    "from scipy.special import jacobi\n",
    "import scipy"
   ]
  },
  {
   "cell_type": "markdown",
   "id": "35e6a58a",
   "metadata": {},
   "source": [
    "### Solve the following system of equations using LU Decomposition method:\n",
    "#### Find L and U by hand.\n",
    "#### Confirm that A=LU then solve.\n",
    "- Ex1. 𝟐𝒙+𝟓𝒚=𝟐𝟏, 𝒙+𝟐𝒚=𝟖.\n",
    "- Ex2. 𝒙𝟏+𝒙𝟐+𝒙𝟑=𝟏, 𝟒𝒙𝟏+𝟑𝒙𝟐−𝒙𝟑=𝟔, 𝟑𝒙𝟏+𝟓𝒙_𝟐+𝟑𝒙𝟑=𝟒\n",
    "\n",
    "#### Use scipy.linalg.lu() to slove the previous system using LU decomposition and compare the results."
   ]
  },
  {
   "cell_type": "markdown",
   "id": "e7e1208d",
   "metadata": {},
   "source": [
    "### Note (when using scipy):\n",
    "- In the second system of equations We can see the <b>L and U</b> we get are different from the ones we got by hand. \n",
    "- You will also see there is a permutation matrix <b>P</b> that returned by the <b>lu function</b>. \n",
    "- This permutation matrix record how do we change the order of the equations for easier calculation purposes (for example, if first element in first row is zero, it can not be the pivot equation, since you can not turn the first elements in other rows to zero. Therefore, we need to switch the order of the equations to get a new pivot equation). \n",
    "- If you multiply <b>P with A</b>, you will see that this permutation matrix effect.\n",
    "- You will need to arrange the ouput based on the new matrix <b>A</b> achieved by <b>LU</b> multiplication in order to correctly solve the system of equations."
   ]
  },
  {
   "cell_type": "code",
   "execution_count": 72,
   "id": "359f45ab",
   "metadata": {},
   "outputs": [
    {
     "name": "stdout",
     "output_type": "stream",
     "text": [
      "this is A\n",
      " [[2 5]\n",
      " [1 2]] \n",
      "\n",
      " this is L * U\n",
      " [[2. 5.]\n",
      " [1. 2.]]\n",
      "**********************\n",
      "****** this is M ******\n",
      "[[21. ]\n",
      " [-2.5]]\n",
      "**********************\n",
      "***** this is X ******\n",
      "[[-2.]\n",
      " [ 5.]]\n"
     ]
    }
   ],
   "source": [
    "A = np.array([[2,5],[1,2]])\n",
    "y=np.array([[21],[8]])\n",
    "p, l, u = lu(A)\n",
    "print(\"this is A\\n\", A,\"\\n\")\n",
    "print(\" this is L * U\\n\",l@u)\n",
    "print(\"**********************\")\n",
    "print(\"****** this is M ******\")\n",
    "m=linalg.inv(l)@y\n",
    "print(m)\n",
    "print(\"**********************\")\n",
    "print(\"***** this is X ******\")\n",
    "x=linalg.inv(u)@m\n",
    "print(x)"
   ]
  },
  {
   "cell_type": "code",
   "execution_count": 73,
   "id": "bcc71eed",
   "metadata": {},
   "outputs": [],
   "source": [
    "def calc(a,y,l,u):\n",
    "    p, l, u = lu(a)\n",
    "    print(\"this is A\\n\", a,\"\\n\")\n",
    "    print(\" this is L * U\\n\",l@u)\n",
    "    print(\"**********************\")\n",
    "    print(\"****** this is M ******\",\"\\n\")\n",
    "    m=linalg.inv(l)@y\n",
    "    print(m,\"\\n\")\n",
    "    print(\"**********************\")\n",
    "    print(\"***** this is X ******\",\"\\n\")\n",
    "    x=linalg.inv(u)@m\n",
    "    print(x,\"\\n\")\n",
    "    return x,m,p,l,u"
   ]
  },
  {
   "cell_type": "code",
   "execution_count": 74,
   "id": "6795f6d8",
   "metadata": {},
   "outputs": [
    {
     "name": "stdout",
     "output_type": "stream",
     "text": [
      "this is A\n",
      " [[2 5]\n",
      " [1 2]] \n",
      "\n",
      " this is L * U\n",
      " [[2. 5.]\n",
      " [1. 2.]]\n",
      "**********************\n",
      "****** this is M ****** \n",
      "\n",
      "[[21. ]\n",
      " [-2.5]] \n",
      "\n",
      "**********************\n",
      "***** this is X ****** \n",
      "\n",
      "[[-2.]\n",
      " [ 5.]] \n",
      "\n"
     ]
    }
   ],
   "source": [
    "A = np.array([[2,5],[1,2]])\n",
    "l=[[1,0],[0.5,1]]\n",
    "u=[[2,5],[0,-0.5]]\n",
    "y=np.array([[21],[8]])\n",
    "x,m,p,l,u=calc(A,y,l,u)"
   ]
  },
  {
   "cell_type": "code",
   "execution_count": null,
   "id": "9df59b52",
   "metadata": {},
   "outputs": [],
   "source": []
  },
  {
   "cell_type": "code",
   "execution_count": 75,
   "id": "ea9ecf1f",
   "metadata": {},
   "outputs": [
    {
     "name": "stdout",
     "output_type": "stream",
     "text": [
      "this is A\n",
      " [[ 1  1  1]\n",
      " [ 4  3 -1]\n",
      " [ 3  5  3]] \n",
      "\n",
      " this is L * U\n",
      " [[ 1  1  1]\n",
      " [ 4  3 -1]\n",
      " [ 3  5  3]]\n",
      "**********************\n",
      "****** this is M ******\n",
      "[[1.]\n",
      " [2.]\n",
      " [5.]]\n",
      "**********************\n",
      "***** this is X ******\n",
      "[[ 1. ]\n",
      " [ 0.5]\n",
      " [-0.5]]\n"
     ]
    }
   ],
   "source": [
    "A = np.array([[1,1,1],[4,3,-1],[3,5,3]])\n",
    "L=np.array([[1,0,0],[4,1,0],[3,-2,1]])\n",
    "U=np.array([[1,1,1],[0,-1,-5],[0,0,-10]])\n",
    "y=np.array([[1],[6],[4]])\n",
    "\n",
    "print(\"this is A\\n\", A,\"\\n\")\n",
    "print(\" this is L * U\\n\",L@U)\n",
    "print(\"**********************\")\n",
    "print(\"****** this is M ******\")\n",
    "m=linalg.inv(L)@y\n",
    "print(m)\n",
    "print(\"**********************\")\n",
    "print(\"***** this is X ******\")\n",
    "x=linalg.inv(U)@m\n",
    "print(x)"
   ]
  },
  {
   "cell_type": "code",
   "execution_count": 79,
   "id": "832d6324",
   "metadata": {},
   "outputs": [
    {
     "name": "stdout",
     "output_type": "stream",
     "text": [
      "this is A\n",
      " [[ 1  1  1]\n",
      " [ 4  3 -1]\n",
      " [ 3  5  3]] \n",
      "\n",
      " this is L * U\n",
      " [[ 4.  3. -1.]\n",
      " [ 3.  5.  3.]\n",
      " [ 1.  1.  1.]]\n",
      "**********************\n",
      "****** this is M ******\n",
      "[[ 6.        ]\n",
      " [-0.5       ]\n",
      " [-0.45454545]]\n",
      "**********************\n",
      "***** this is X ******\n",
      "[[ 1. ]\n",
      " [ 0.5]\n",
      " [-0.5]]\n"
     ]
    }
   ],
   "source": [
    "A = np.array([[1,1,1],[4,3,-1],[3,5,3]])\n",
    "p, l, u = lu(A)\n",
    "y=np.array([[1],[6],[4]])\n",
    "y_new=linalg.inv(p)@y\n",
    "print(\"this is A\\n\", A,\"\\n\")\n",
    "print(\" this is L * U\\n\",l@u)\n",
    "print(\"**********************\")\n",
    "print(\"****** this is M ******\")\n",
    "m=linalg.inv(l)@y_new\n",
    "print(m)\n",
    "print(\"**********************\")\n",
    "print(\"***** this is X ******\")\n",
    "x=linalg.inv(u)@m\n",
    "print(x)"
   ]
  },
  {
   "cell_type": "code",
   "execution_count": 9,
   "id": "18626b95",
   "metadata": {},
   "outputs": [
    {
     "name": "stdout",
     "output_type": "stream",
     "text": [
      "A = [[ 1  1  1]\n",
      " [ 4  3 -1]\n",
      " [ 3  5  3]]\n",
      "LU =  [[ 1  1  1]\n",
      " [ 4  3 -1]\n",
      " [ 3  5  3]]\n",
      "M = [[1.]\n",
      " [2.]\n",
      " [5.]]\n",
      "x = [[ 1. ]\n",
      " [ 0.5]\n",
      " [-0.5]]\n"
     ]
    }
   ],
   "source": []
  },
  {
   "cell_type": "code",
   "execution_count": 10,
   "id": "b5ed8d99",
   "metadata": {},
   "outputs": [],
   "source": []
  },
  {
   "cell_type": "code",
   "execution_count": 11,
   "id": "124ad8a0",
   "metadata": {},
   "outputs": [
    {
     "name": "stdout",
     "output_type": "stream",
     "text": [
      "P:\n",
      " [[0. 0. 1.]\n",
      " [1. 0. 0.]\n",
      " [0. 1. 0.]]\n",
      "L:\n",
      " [[1.         0.         0.        ]\n",
      " [0.75       1.         0.        ]\n",
      " [0.25       0.09090909 1.        ]]\n",
      "U:\n",
      " [[ 4.          3.         -1.        ]\n",
      " [ 0.          2.75        3.75      ]\n",
      " [ 0.          0.          0.90909091]]\n",
      "LU:\n",
      " [[ 4.  3. -1.]\n",
      " [ 3.  5.  3.]\n",
      " [ 1.  1.  1.]]\n",
      "A:\n",
      " [[ 1  1  1]\n",
      " [ 4  3 -1]\n",
      " [ 3  5  3]]\n"
     ]
    }
   ],
   "source": []
  },
  {
   "cell_type": "code",
   "execution_count": 12,
   "id": "8db129da",
   "metadata": {},
   "outputs": [
    {
     "name": "stdout",
     "output_type": "stream",
     "text": [
      "M = [[ 6.        ]\n",
      " [-0.5       ]\n",
      " [-0.45454545]]\n",
      "x = [[ 1. ]\n",
      " [ 0.5]\n",
      " [-0.5]]\n"
     ]
    }
   ],
   "source": []
  },
  {
   "cell_type": "markdown",
   "id": "4db8f2ad",
   "metadata": {},
   "source": [
    "### Apply the Jacobi and Gauss-Seidel method to solve\n",
    "- 𝟓𝒙𝟏−𝟐𝒙𝟐+𝟑𝒙𝟑=−𝟏, −𝟑𝒙𝟏+𝟗𝒙𝟐+𝒙𝟑=𝟐, 𝟐𝒙𝟏−𝒙𝟐−𝟕𝒙𝟑=𝟑\n",
    "- Solve once without vectorization then use vectorize implementation.\n",
    "- Check for convergance.\n",
    "- Use different tolerence and see the difference between the two methods. e.g. tol: 0.01,0.001,0.0001 ... etc."
   ]
  },
  {
   "cell_type": "code",
   "execution_count": 107,
   "id": "b2007438",
   "metadata": {},
   "outputs": [
    {
     "name": "stdout",
     "output_type": "stream",
     "text": [
      "-1.2 -0.5111111111111111 -0.6984126984126985\n",
      "0.01460317460317464 0.3046913580246914 -0.46792642983119176\n",
      "0.2026324011085916 0.3417581814618852 -0.4194990541778146\n",
      "0.18840270509144283 0.331634129939127 -0.4221183885366059\n",
      "0.18592468509761434 0.3310991604254943 -0.42274997003289505\n",
      "0.18608964618993476 0.3312243231780777 -0.4227207186854583\n",
      "0.18612216048250607 0.3312319111258863 -0.42271251288012485\n",
      "0.1861202721784294 0.3312303699350459 -0.4227128322254553\n"
     ]
    }
   ],
   "source": [
    "## Jacobi Not Vectorized\n",
    "epsilon = 0.00001\n",
    "x1=-1\n",
    "x2=2\n",
    "x3=3\n",
    "t=1\n",
    "while t:\n",
    "    x1_old=x1\n",
    "    x2_old=x2\n",
    "    x3_old=x3\n",
    "    x1=(2*x2-3*x3-1)/5\n",
    "    x2=(3*x1-x3+2)/9\n",
    "    x3=(-2*x1+x2+3)/-7\n",
    "    print(x1,x2,x3)\n",
    "    if np.abs(x1-x1_old) < epsilon and np.abs(x2-x2_old) < epsilon and np.abs(x3-x3_old) < epsilon:\n",
    "        t = 0"
   ]
  },
  {
   "cell_type": "code",
   "execution_count": 109,
   "id": "6f1a05b5",
   "metadata": {},
   "outputs": [
    {
     "name": "stdout",
     "output_type": "stream",
     "text": [
      "-1.2 -0.5111111111111111 -1.0571428571428572\n",
      "0.2298412698412699 0.41629629629629633 -0.2898866213151927\n",
      "0.14045049130763418 0.30124867724867727 -0.4479136162401468\n",
      "0.18924764064355903 0.3350729486856471 -0.4175361994230799\n",
      "0.18455089912810677 0.33013209964526674 -0.42371016434706193\n",
      "0.18627893846634383 0.33139410886067705 -0.42251060324465417\n",
      "0.18606400549106333 0.3311891799686493 -0.4227522996969358\n",
      "0.18612705180562122 0.3312370505681999 -0.422705010908201\n",
      "0.1861178267722005 0.33122872124720026 -0.42271448528911415\n"
     ]
    }
   ],
   "source": [
    "## Gauss-Seidel Not Vectorized\n",
    "epsilon = 0.00001\n",
    "epsilon = 0.00001\n",
    "x1=-1\n",
    "x2=2\n",
    "x3=3\n",
    "t=1\n",
    "while t:\n",
    "    x1_old=x1\n",
    "    x2_old=x2\n",
    "    x3_old=x3\n",
    "    x1=(2*x2_old-3*x3_old-1)/5\n",
    "    x2=(3*x1-x3_old+2)/9\n",
    "    x3=(-2*x1+x2_old+3)/-7\n",
    "    print(x1,x2,x3)\n",
    "    if np.abs(x1-x1_old) < epsilon and np.abs(x2-x2_old) < epsilon and np.abs(x3-x3_old) < epsilon:\n",
    "        t = 0"
   ]
  },
  {
   "cell_type": "code",
   "execution_count": 112,
   "id": "d18f5b38",
   "metadata": {},
   "outputs": [
    {
     "name": "stdout",
     "output_type": "stream",
     "text": [
      "[[ 0.2       ]\n",
      " [ 0.22222222]\n",
      " [-0.42857143]]\n",
      "[[ 0.54603175]\n",
      " [ 0.33650794]\n",
      " [-0.4031746 ]]\n",
      "[[ 0.57650794]\n",
      " [ 0.44902998]\n",
      " [-0.32063492]]\n",
      "[[ 0.57199295]\n",
      " [ 0.45001764]\n",
      " [-0.32800202]]\n",
      "[[ 0.57680826]\n",
      " [ 0.44933121]\n",
      " [-0.32943311]]\n",
      "[[ 0.57739235]\n",
      " [ 0.45109532]\n",
      " [-0.32795924]]\n",
      "[[ 0.57721367]\n",
      " [ 0.45112625]\n",
      " [-0.32804438]]\n",
      "[[ 0.57727713]\n",
      " [ 0.45107615]\n",
      " [-0.32809984]]\n",
      "[[ 0.57729037]\n",
      " [ 0.45110347]\n",
      " [-0.32807456]]\n",
      "[[ 0.57728612]\n",
      " [ 0.45110507]\n",
      " [-0.32807468]]\n"
     ]
    }
   ],
   "source": [
    "## Jacobi Vectorized\n",
    "epsilon = 0.00001\n",
    "d=np.diag(np.diag(A))\n",
    "u=np.triu(A,k=1)\n",
    "l=np.tril(A,k=-1)\n",
    "x=np.array([[0],[0],[0]])\n",
    "T=scipy.linalg.inv(d)@(-l-u)\n",
    "c=scipy.linalg.inv(d)@y\n",
    "t=1\n",
    "while t:\n",
    "    x_old=x\n",
    "    x=T@x+c\n",
    "    if np.abs(x-x_old).max() < epsilon:\n",
    "        t=0\n",
    "    print(x)"
   ]
  },
  {
   "cell_type": "code",
   "execution_count": 113,
   "id": "2974cf6d",
   "metadata": {
    "scrolled": true
   },
   "outputs": [
    {
     "name": "stdout",
     "output_type": "stream",
     "text": [
      "[[ 0.2       ]\n",
      " [ 0.28888889]\n",
      " [-0.41269841]]\n",
      "[[ 0.5631746 ]\n",
      " [ 0.45580247]\n",
      " [-0.33277904]]\n",
      "[[ 0.58198841]\n",
      " [ 0.45319381]\n",
      " [-0.327031  ]]\n",
      "[[ 0.57749612]\n",
      " [ 0.45105771]\n",
      " [-0.32800935]]\n",
      "[[ 0.57722869]\n",
      " [ 0.45107727]\n",
      " [-0.32808855]]\n",
      "[[ 0.57728404]\n",
      " [ 0.45110452]\n",
      " [-0.32807663]]\n",
      "[[ 0.57728779]\n",
      " [ 0.45110444]\n",
      " [-0.32807555]]\n"
     ]
    }
   ],
   "source": [
    "## Gauss-Seidel Vectorized\n",
    "epsilon = 0.00001\n",
    "d = np.diag(np.diag(A))\n",
    "u = np.triu(A,k=1)\n",
    "l = np.tril(A,k=-1)\n",
    "x = np.array([ [0],\n",
    "               [0],\n",
    "               [0]])                \n",
    "T = scipy.linalg.inv(d+l)@(-u)\n",
    "c = scipy.linalg.inv(d+l)@y\n",
    "t = True\n",
    "while t:\n",
    "    x_old = x\n",
    "    x = T@x + c\n",
    "    if np.abs(x-x_old).max() < epsilon:\n",
    "        t = False\n",
    "    print(x)"
   ]
  },
  {
   "cell_type": "markdown",
   "id": "358e7fe3",
   "metadata": {},
   "source": [
    "### Use np.linalg.solve() to solve the previous system and compare the results."
   ]
  },
  {
   "cell_type": "code",
   "execution_count": 102,
   "id": "52a53f5e",
   "metadata": {
    "scrolled": true
   },
   "outputs": [
    {
     "data": {
      "text/plain": [
       "array([[ 0.18611987],\n",
       "       [ 0.33123028],\n",
       "       [-0.42271293]])"
      ]
     },
     "execution_count": 102,
     "metadata": {},
     "output_type": "execute_result"
    }
   ],
   "source": []
  },
  {
   "cell_type": "markdown",
   "id": "9b8e273e",
   "metadata": {},
   "source": [
    "### Use scipy.linalg.lu() to slove the previous system using LU decomposition and compare the results."
   ]
  },
  {
   "cell_type": "code",
   "execution_count": 105,
   "id": "2c4d5913",
   "metadata": {},
   "outputs": [
    {
     "data": {
      "text/plain": [
       "array([[1., 0., 0.],\n",
       "       [0., 1., 0.],\n",
       "       [0., 0., 1.]])"
      ]
     },
     "execution_count": 105,
     "metadata": {},
     "output_type": "execute_result"
    }
   ],
   "source": [
    "P"
   ]
  },
  {
   "cell_type": "code",
   "execution_count": 106,
   "id": "69e24fc0",
   "metadata": {},
   "outputs": [
    {
     "data": {
      "text/plain": [
       "array([[ 1.        ,  0.        ,  0.        ],\n",
       "       [-0.6       ,  1.        ,  0.        ],\n",
       "       [ 0.4       , -0.02564103,  1.        ]])"
      ]
     },
     "execution_count": 106,
     "metadata": {},
     "output_type": "execute_result"
    }
   ],
   "source": [
    "L"
   ]
  },
  {
   "cell_type": "code",
   "execution_count": 107,
   "id": "23647550",
   "metadata": {},
   "outputs": [
    {
     "data": {
      "text/plain": [
       "array([[ 5.        , -2.        ,  3.        ],\n",
       "       [ 0.        ,  7.8       ,  2.8       ],\n",
       "       [ 0.        ,  0.        , -8.12820513]])"
      ]
     },
     "execution_count": 107,
     "metadata": {},
     "output_type": "execute_result"
    }
   ],
   "source": [
    "U"
   ]
  },
  {
   "cell_type": "code",
   "execution_count": 110,
   "id": "0834ffed",
   "metadata": {},
   "outputs": [
    {
     "name": "stdout",
     "output_type": "stream",
     "text": [
      "A = [[ 5 -2  3]\n",
      " [-3  9  1]\n",
      " [ 2 -1 -7]]\n",
      "LU =  [[ 5. -2.  3.]\n",
      " [-3.  9.  1.]\n",
      " [ 2. -1. -7.]]\n",
      "M = [[-1.        ]\n",
      " [ 1.4       ]\n",
      " [ 3.43589744]]\n",
      "\n",
      "Solution: \n",
      "x = [[ 0.1861206 ]\n",
      " [ 0.33123065]\n",
      " [-0.42271278]]\n"
     ]
    }
   ],
   "source": []
  },
  {
   "cell_type": "code",
   "execution_count": null,
   "id": "0508256c",
   "metadata": {},
   "outputs": [],
   "source": []
  }
 ],
 "metadata": {
  "interpreter": {
   "hash": "ad2bdc8ecc057115af97d19610ffacc2b4e99fae6737bb82f5d7fb13d2f2c186"
  },
  "kernelspec": {
   "display_name": "Python 3.9.7 ('base')",
   "language": "python",
   "name": "python3"
  },
  "language_info": {
   "codemirror_mode": {
    "name": "ipython",
    "version": 3
   },
   "file_extension": ".py",
   "mimetype": "text/x-python",
   "name": "python",
   "nbconvert_exporter": "python",
   "pygments_lexer": "ipython3",
   "version": "3.9.7"
  }
 },
 "nbformat": 4,
 "nbformat_minor": 5
}
